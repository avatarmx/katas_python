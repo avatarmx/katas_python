{
  "cells": [
    {
      "cell_type": "markdown",
      "metadata": {},
      "source": [
        "## Kata del Modulo 3"
      ]
    },
    {
      "cell_type": "markdown",
      "metadata": {},
      "source": [
        "* Ejercicio 1"
      ]
    },
    {
      "cell_type": "code",
      "execution_count": 5,
      "metadata": {},
      "outputs": [
        {
          "name": "stdout",
          "output_type": "stream",
          "text": [
            "Peligro Will Robinson, Un asteroide nos va a dar en la torre!!\n"
          ]
        }
      ],
      "source": [
        "asteroide = 26\n",
        "if asteroide > 25:\n",
        "    print('Peligro Will Robinson, Un asteroide nos va a dar en la torre!!')\n",
        "else:\n",
        "    print('Todo en Orden')"
      ]
    },
    {
      "cell_type": "markdown",
      "metadata": {},
      "source": [
        "* Ejercicio 2"
      ]
    },
    {
      "cell_type": "code",
      "execution_count": 18,
      "metadata": {},
      "outputs": [
        {
          "name": "stdout",
          "output_type": "stream",
          "text": [
            "Asteroide cercano, peligro de colision!!\n"
          ]
        }
      ],
      "source": [
        "asteroide = 21\n",
        "if asteroide > 20:\n",
        "    print('Asteroide cercano, peligro de colision!!')\n",
        "elif asteroide == 20:\n",
        "    print('Asteroide a la vista')\n",
        "else:\n",
        "    print('No se ve nada')"
      ]
    },
    {
      "cell_type": "markdown",
      "metadata": {},
      "source": [
        "* Ejercicio 3"
      ]
    },
    {
      "cell_type": "code",
      "execution_count": 1,
      "metadata": {},
      "outputs": [
        {
          "name": "stdout",
          "output_type": "stream",
          "text": [
            "Look up! ¡Hay una luz mágica en el cielo!\n"
          ]
        }
      ],
      "source": [
        "velocidad_asteroide = 250\n",
        "tamano_asteroide = 45\n",
        "if velocidad_asteroide > 25 and tamano_asteroide > 25:\n",
        "    print('¡Alerta, Un asteroide muy peligroso viene hacia la Tierra!')\n",
        "elif velocidad_asteroide >= 20:\n",
        "    print('Look up! ¡Hay una luz mágica en el cielo!')\n",
        "elif tamano_asteroide < 25:\n",
        "    print('Nada que ver aquí :)')\n",
        "else:\n",
        "    print('Nada que ver aquí :)')"
      ]
    },
    {
      "cell_type": "markdown",
      "metadata": {},
      "source": [
        "> Juan Ramon Gonzalez Romero\n",
        "\n",
        "> juan.gonzalez.mx@gmail.com\n",
        "\n",
        "> @avatarmx"
      ]
    }
  ],
  "metadata": {
    "interpreter": {
      "hash": "916dbcbb3f70747c44a77c7bcd40155683ae19c65e1c03b4aa3499c5328201f1"
    },
    "kernel_info": {
      "name": "conda-env-py37_default-py"
    },
    "kernelspec": {
      "display_name": "py37_default",
      "language": "python",
      "name": "python3"
    },
    "language_info": {
      "codemirror_mode": {
        "name": "ipython",
        "version": 3
      },
      "file_extension": ".py",
      "mimetype": "text/x-python",
      "name": "python",
      "nbconvert_exporter": "python",
      "pygments_lexer": "ipython3",
      "version": "3.10.2"
    },
    "nteract": {
      "version": "nteract-front-end@1.0.0"
    },
    "orig_nbformat": 4
  },
  "nbformat": 4,
  "nbformat_minor": 2
}
